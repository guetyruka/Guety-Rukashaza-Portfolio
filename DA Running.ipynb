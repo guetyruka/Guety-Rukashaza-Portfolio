{
 "cells": [
  {
   "cell_type": "code",
   "execution_count": 133,
   "metadata": {},
   "outputs": [],
   "source": [
    "import pandas as pd\n",
    "import seaborn as sns"
   ]
  },
  {
   "cell_type": "code",
   "execution_count": 134,
   "metadata": {},
   "outputs": [
    {
     "name": "stderr",
     "output_type": "stream",
     "text": [
      "/var/folders/1j/bkjhwqp963ggl1k7p_4t0mrh0000gn/T/ipykernel_1009/3767263161.py:1: DtypeWarning: Columns (11) have mixed types. Specify dtype option on import or set low_memory=False.\n",
      "  df = pd.read_csv('racing.csv')\n"
     ]
    }
   ],
   "source": [
    "df = pd.read_csv('racing.csv')"
   ]
  },
  {
   "cell_type": "code",
   "execution_count": 135,
   "metadata": {},
   "outputs": [
    {
     "data": {
      "text/html": [
       "<div>\n",
       "<style scoped>\n",
       "    .dataframe tbody tr th:only-of-type {\n",
       "        vertical-align: middle;\n",
       "    }\n",
       "\n",
       "    .dataframe tbody tr th {\n",
       "        vertical-align: top;\n",
       "    }\n",
       "\n",
       "    .dataframe thead th {\n",
       "        text-align: right;\n",
       "    }\n",
       "</style>\n",
       "<table border=\"1\" class=\"dataframe\">\n",
       "  <thead>\n",
       "    <tr style=\"text-align: right;\">\n",
       "      <th></th>\n",
       "      <th>Year of event</th>\n",
       "      <th>Event dates</th>\n",
       "      <th>Event name</th>\n",
       "      <th>Event distance/length</th>\n",
       "      <th>Event number of finishers</th>\n",
       "      <th>Athlete performance</th>\n",
       "      <th>Athlete club</th>\n",
       "      <th>Athlete country</th>\n",
       "      <th>Athlete year of birth</th>\n",
       "      <th>Athlete gender</th>\n",
       "      <th>Athlete age category</th>\n",
       "      <th>Athlete average speed</th>\n",
       "      <th>Athlete ID</th>\n",
       "    </tr>\n",
       "  </thead>\n",
       "  <tbody>\n",
       "    <tr>\n",
       "      <th>0</th>\n",
       "      <td>2018</td>\n",
       "      <td>06.01.2018</td>\n",
       "      <td>Selva Costera (CHI)</td>\n",
       "      <td>50km</td>\n",
       "      <td>22</td>\n",
       "      <td>4:51:39 h</td>\n",
       "      <td>Tnfrc</td>\n",
       "      <td>CHI</td>\n",
       "      <td>1978.0</td>\n",
       "      <td>M</td>\n",
       "      <td>M35</td>\n",
       "      <td>10.286</td>\n",
       "      <td>0</td>\n",
       "    </tr>\n",
       "    <tr>\n",
       "      <th>1</th>\n",
       "      <td>2018</td>\n",
       "      <td>06.01.2018</td>\n",
       "      <td>Selva Costera (CHI)</td>\n",
       "      <td>50km</td>\n",
       "      <td>22</td>\n",
       "      <td>5:15:45 h</td>\n",
       "      <td>Roberto Echeverría</td>\n",
       "      <td>CHI</td>\n",
       "      <td>1981.0</td>\n",
       "      <td>M</td>\n",
       "      <td>M35</td>\n",
       "      <td>9.501</td>\n",
       "      <td>1</td>\n",
       "    </tr>\n",
       "    <tr>\n",
       "      <th>2</th>\n",
       "      <td>2018</td>\n",
       "      <td>06.01.2018</td>\n",
       "      <td>Selva Costera (CHI)</td>\n",
       "      <td>50km</td>\n",
       "      <td>22</td>\n",
       "      <td>5:16:44 h</td>\n",
       "      <td>Puro Trail Osorno</td>\n",
       "      <td>CHI</td>\n",
       "      <td>1987.0</td>\n",
       "      <td>M</td>\n",
       "      <td>M23</td>\n",
       "      <td>9.472</td>\n",
       "      <td>2</td>\n",
       "    </tr>\n",
       "    <tr>\n",
       "      <th>3</th>\n",
       "      <td>2018</td>\n",
       "      <td>06.01.2018</td>\n",
       "      <td>Selva Costera (CHI)</td>\n",
       "      <td>50km</td>\n",
       "      <td>22</td>\n",
       "      <td>5:34:13 h</td>\n",
       "      <td>Columbia</td>\n",
       "      <td>ARG</td>\n",
       "      <td>1976.0</td>\n",
       "      <td>M</td>\n",
       "      <td>M40</td>\n",
       "      <td>8.976</td>\n",
       "      <td>3</td>\n",
       "    </tr>\n",
       "  </tbody>\n",
       "</table>\n",
       "</div>"
      ],
      "text/plain": [
       "   Year of event Event dates           Event name Event distance/length  \\\n",
       "0           2018  06.01.2018  Selva Costera (CHI)                  50km   \n",
       "1           2018  06.01.2018  Selva Costera (CHI)                  50km   \n",
       "2           2018  06.01.2018  Selva Costera (CHI)                  50km   \n",
       "3           2018  06.01.2018  Selva Costera (CHI)                  50km   \n",
       "\n",
       "   Event number of finishers Athlete performance        Athlete club  \\\n",
       "0                         22           4:51:39 h               Tnfrc   \n",
       "1                         22           5:15:45 h  Roberto Echeverría   \n",
       "2                         22           5:16:44 h   Puro Trail Osorno   \n",
       "3                         22           5:34:13 h            Columbia   \n",
       "\n",
       "  Athlete country  Athlete year of birth Athlete gender Athlete age category  \\\n",
       "0             CHI                 1978.0              M                  M35   \n",
       "1             CHI                 1981.0              M                  M35   \n",
       "2             CHI                 1987.0              M                  M23   \n",
       "3             ARG                 1976.0              M                  M40   \n",
       "\n",
       "  Athlete average speed  Athlete ID  \n",
       "0                10.286           0  \n",
       "1                 9.501           1  \n",
       "2                 9.472           2  \n",
       "3                 8.976           3  "
      ]
     },
     "execution_count": 135,
     "metadata": {},
     "output_type": "execute_result"
    }
   ],
   "source": [
    "df.head(4)"
   ]
  },
  {
   "cell_type": "code",
   "execution_count": 136,
   "metadata": {},
   "outputs": [
    {
     "data": {
      "text/plain": [
       "(7461195, 13)"
      ]
     },
     "execution_count": 136,
     "metadata": {},
     "output_type": "execute_result"
    }
   ],
   "source": [
    "df.shape"
   ]
  },
  {
   "cell_type": "code",
   "execution_count": 137,
   "metadata": {},
   "outputs": [
    {
     "data": {
      "text/plain": [
       "Year of event                  int64\n",
       "Event dates                   object\n",
       "Event name                    object\n",
       "Event distance/length         object\n",
       "Event number of finishers      int64\n",
       "Athlete performance           object\n",
       "Athlete club                  object\n",
       "Athlete country               object\n",
       "Athlete year of birth        float64\n",
       "Athlete gender                object\n",
       "Athlete age category          object\n",
       "Athlete average speed         object\n",
       "Athlete ID                     int64\n",
       "dtype: object"
      ]
     },
     "execution_count": 137,
     "metadata": {},
     "output_type": "execute_result"
    }
   ],
   "source": [
    "df.dtypes"
   ]
  },
  {
   "cell_type": "code",
   "execution_count": 138,
   "metadata": {},
   "outputs": [],
   "source": [
    "#cleaning the data and only looking at US races, 50 miles in 2020\n"
   ]
  },
  {
   "cell_type": "code",
   "execution_count": 139,
   "metadata": {},
   "outputs": [
    {
     "data": {
      "text/html": [
       "<div>\n",
       "<style scoped>\n",
       "    .dataframe tbody tr th:only-of-type {\n",
       "        vertical-align: middle;\n",
       "    }\n",
       "\n",
       "    .dataframe tbody tr th {\n",
       "        vertical-align: top;\n",
       "    }\n",
       "\n",
       "    .dataframe thead th {\n",
       "        text-align: right;\n",
       "    }\n",
       "</style>\n",
       "<table border=\"1\" class=\"dataframe\">\n",
       "  <thead>\n",
       "    <tr style=\"text-align: right;\">\n",
       "      <th></th>\n",
       "      <th>Year of event</th>\n",
       "      <th>Event dates</th>\n",
       "      <th>Event name</th>\n",
       "      <th>Event distance/length</th>\n",
       "      <th>Event number of finishers</th>\n",
       "      <th>Athlete performance</th>\n",
       "      <th>Athlete club</th>\n",
       "      <th>Athlete country</th>\n",
       "      <th>Athlete year of birth</th>\n",
       "      <th>Athlete gender</th>\n",
       "      <th>Athlete age category</th>\n",
       "      <th>Athlete average speed</th>\n",
       "      <th>Athlete ID</th>\n",
       "    </tr>\n",
       "  </thead>\n",
       "  <tbody>\n",
       "    <tr>\n",
       "      <th>55</th>\n",
       "      <td>2018</td>\n",
       "      <td>06.01.2018</td>\n",
       "      <td>Yankee Springs 50 Mile Winter Challenge (USA)</td>\n",
       "      <td>50mi</td>\n",
       "      <td>9</td>\n",
       "      <td>9:53:05 h</td>\n",
       "      <td>*Middleville, MI</td>\n",
       "      <td>USA</td>\n",
       "      <td>1983.0</td>\n",
       "      <td>M</td>\n",
       "      <td>M23</td>\n",
       "      <td>8.141</td>\n",
       "      <td>55</td>\n",
       "    </tr>\n",
       "    <tr>\n",
       "      <th>56</th>\n",
       "      <td>2018</td>\n",
       "      <td>06.01.2018</td>\n",
       "      <td>Yankee Springs 50 Mile Winter Challenge (USA)</td>\n",
       "      <td>50mi</td>\n",
       "      <td>9</td>\n",
       "      <td>11:09:35 h</td>\n",
       "      <td>*Waterloo, ON</td>\n",
       "      <td>CAN</td>\n",
       "      <td>1977.0</td>\n",
       "      <td>F</td>\n",
       "      <td>W40</td>\n",
       "      <td>7.211</td>\n",
       "      <td>56</td>\n",
       "    </tr>\n",
       "    <tr>\n",
       "      <th>57</th>\n",
       "      <td>2018</td>\n",
       "      <td>06.01.2018</td>\n",
       "      <td>Yankee Springs 50 Mile Winter Challenge (USA)</td>\n",
       "      <td>50mi</td>\n",
       "      <td>9</td>\n",
       "      <td>11:33:00 h</td>\n",
       "      <td>*Kitchener, ON</td>\n",
       "      <td>CAN</td>\n",
       "      <td>1976.0</td>\n",
       "      <td>M</td>\n",
       "      <td>M40</td>\n",
       "      <td>6.967</td>\n",
       "      <td>57</td>\n",
       "    </tr>\n",
       "    <tr>\n",
       "      <th>58</th>\n",
       "      <td>2018</td>\n",
       "      <td>06.01.2018</td>\n",
       "      <td>Yankee Springs 50 Mile Winter Challenge (USA)</td>\n",
       "      <td>50mi</td>\n",
       "      <td>9</td>\n",
       "      <td>11:38:17 h</td>\n",
       "      <td>*Utica, MI</td>\n",
       "      <td>USA</td>\n",
       "      <td>1986.0</td>\n",
       "      <td>M</td>\n",
       "      <td>M23</td>\n",
       "      <td>6.914</td>\n",
       "      <td>58</td>\n",
       "    </tr>\n",
       "  </tbody>\n",
       "</table>\n",
       "</div>"
      ],
      "text/plain": [
       "    Year of event Event dates                                     Event name  \\\n",
       "55           2018  06.01.2018  Yankee Springs 50 Mile Winter Challenge (USA)   \n",
       "56           2018  06.01.2018  Yankee Springs 50 Mile Winter Challenge (USA)   \n",
       "57           2018  06.01.2018  Yankee Springs 50 Mile Winter Challenge (USA)   \n",
       "58           2018  06.01.2018  Yankee Springs 50 Mile Winter Challenge (USA)   \n",
       "\n",
       "   Event distance/length  Event number of finishers Athlete performance  \\\n",
       "55                  50mi                          9           9:53:05 h   \n",
       "56                  50mi                          9          11:09:35 h   \n",
       "57                  50mi                          9          11:33:00 h   \n",
       "58                  50mi                          9          11:38:17 h   \n",
       "\n",
       "        Athlete club Athlete country  Athlete year of birth Athlete gender  \\\n",
       "55  *Middleville, MI             USA                 1983.0              M   \n",
       "56     *Waterloo, ON             CAN                 1977.0              F   \n",
       "57    *Kitchener, ON             CAN                 1976.0              M   \n",
       "58        *Utica, MI             USA                 1986.0              M   \n",
       "\n",
       "   Athlete age category Athlete average speed  Athlete ID  \n",
       "55                  M23                 8.141          55  \n",
       "56                  W40                 7.211          56  \n",
       "57                  M40                 6.967          57  \n",
       "58                  M23                 6.914          58  "
      ]
     },
     "execution_count": 139,
     "metadata": {},
     "output_type": "execute_result"
    }
   ],
   "source": [
    "#first finding the races = 50km/50 miles\n",
    "#mi = miles\n",
    "df[df['Event distance/length'] =='50mi'].head(4)"
   ]
  },
  {
   "cell_type": "code",
   "execution_count": 140,
   "metadata": {},
   "outputs": [
    {
     "data": {
      "text/html": [
       "<div>\n",
       "<style scoped>\n",
       "    .dataframe tbody tr th:only-of-type {\n",
       "        vertical-align: middle;\n",
       "    }\n",
       "\n",
       "    .dataframe tbody tr th {\n",
       "        vertical-align: top;\n",
       "    }\n",
       "\n",
       "    .dataframe thead th {\n",
       "        text-align: right;\n",
       "    }\n",
       "</style>\n",
       "<table border=\"1\" class=\"dataframe\">\n",
       "  <thead>\n",
       "    <tr style=\"text-align: right;\">\n",
       "      <th></th>\n",
       "      <th>Year of event</th>\n",
       "      <th>Event dates</th>\n",
       "      <th>Event name</th>\n",
       "      <th>Event distance/length</th>\n",
       "      <th>Event number of finishers</th>\n",
       "      <th>Athlete performance</th>\n",
       "      <th>Athlete club</th>\n",
       "      <th>Athlete country</th>\n",
       "      <th>Athlete year of birth</th>\n",
       "      <th>Athlete gender</th>\n",
       "      <th>Athlete age category</th>\n",
       "      <th>Athlete average speed</th>\n",
       "      <th>Athlete ID</th>\n",
       "    </tr>\n",
       "  </thead>\n",
       "  <tbody>\n",
       "    <tr>\n",
       "      <th>2538571</th>\n",
       "      <td>2020</td>\n",
       "      <td>07.-09.02.2020</td>\n",
       "      <td>Taipei 48hr Ultra Marathon - 50mi (TPE)</td>\n",
       "      <td>50mi</td>\n",
       "      <td>38</td>\n",
       "      <td>7:34:19 h</td>\n",
       "      <td>日本隊</td>\n",
       "      <td>JPN</td>\n",
       "      <td>1965.0</td>\n",
       "      <td>M</td>\n",
       "      <td>M50</td>\n",
       "      <td>10.627</td>\n",
       "      <td>53107</td>\n",
       "    </tr>\n",
       "    <tr>\n",
       "      <th>2538572</th>\n",
       "      <td>2020</td>\n",
       "      <td>07.-09.02.2020</td>\n",
       "      <td>Taipei 48hr Ultra Marathon - 50mi (TPE)</td>\n",
       "      <td>50mi</td>\n",
       "      <td>38</td>\n",
       "      <td>7:43:50 h</td>\n",
       "      <td>NaN</td>\n",
       "      <td>AUS</td>\n",
       "      <td>1974.0</td>\n",
       "      <td>M</td>\n",
       "      <td>M45</td>\n",
       "      <td>10.409</td>\n",
       "      <td>8785</td>\n",
       "    </tr>\n",
       "  </tbody>\n",
       "</table>\n",
       "</div>"
      ],
      "text/plain": [
       "         Year of event     Event dates  \\\n",
       "2538571           2020  07.-09.02.2020   \n",
       "2538572           2020  07.-09.02.2020   \n",
       "\n",
       "                                      Event name Event distance/length  \\\n",
       "2538571  Taipei 48hr Ultra Marathon - 50mi (TPE)                  50mi   \n",
       "2538572  Taipei 48hr Ultra Marathon - 50mi (TPE)                  50mi   \n",
       "\n",
       "         Event number of finishers Athlete performance Athlete club  \\\n",
       "2538571                         38           7:34:19 h          日本隊   \n",
       "2538572                         38           7:43:50 h          NaN   \n",
       "\n",
       "        Athlete country  Athlete year of birth Athlete gender  \\\n",
       "2538571             JPN                 1965.0              M   \n",
       "2538572             AUS                 1974.0              M   \n",
       "\n",
       "        Athlete age category Athlete average speed  Athlete ID  \n",
       "2538571                  M50                10.627       53107  \n",
       "2538572                  M45                10.409        8785  "
      ]
     },
     "execution_count": 140,
     "metadata": {},
     "output_type": "execute_result"
    }
   ],
   "source": [
    "df[df['Event distance/length'].isin(['50km', '50mi']) & (df['Year of event'] == 2020)].head(2)"
   ]
  },
  {
   "cell_type": "code",
   "execution_count": 141,
   "metadata": {},
   "outputs": [
    {
     "data": {
      "text/plain": [
       "51923      USA\n",
       "51924      USA\n",
       "51925      USA\n",
       "51926      USA\n",
       "51927      USA\n",
       "          ... \n",
       "6417091    USA\n",
       "6417092    USA\n",
       "6417093    USA\n",
       "6417094    USA\n",
       "6417095    USA\n",
       "Name: Event name, Length: 338, dtype: object"
      ]
     },
     "execution_count": 141,
     "metadata": {},
     "output_type": "execute_result"
    }
   ],
   "source": [
    "df[df['Event name'] =='Everglades 50 Mile Ultra Run (USA)']['Event name'].str.split('(').str.get(1).str.split(')').str.get(0)\n"
   ]
  },
  {
   "cell_type": "code",
   "execution_count": 142,
   "metadata": {},
   "outputs": [
    {
     "data": {
      "text/html": [
       "<div>\n",
       "<style scoped>\n",
       "    .dataframe tbody tr th:only-of-type {\n",
       "        vertical-align: middle;\n",
       "    }\n",
       "\n",
       "    .dataframe tbody tr th {\n",
       "        vertical-align: top;\n",
       "    }\n",
       "\n",
       "    .dataframe thead th {\n",
       "        text-align: right;\n",
       "    }\n",
       "</style>\n",
       "<table border=\"1\" class=\"dataframe\">\n",
       "  <thead>\n",
       "    <tr style=\"text-align: right;\">\n",
       "      <th></th>\n",
       "      <th>Year of event</th>\n",
       "      <th>Event dates</th>\n",
       "      <th>Event name</th>\n",
       "      <th>Event distance/length</th>\n",
       "      <th>Event number of finishers</th>\n",
       "      <th>Athlete performance</th>\n",
       "      <th>Athlete club</th>\n",
       "      <th>Athlete country</th>\n",
       "      <th>Athlete year of birth</th>\n",
       "      <th>Athlete gender</th>\n",
       "      <th>Athlete age category</th>\n",
       "      <th>Athlete average speed</th>\n",
       "      <th>Athlete ID</th>\n",
       "    </tr>\n",
       "  </thead>\n",
       "  <tbody>\n",
       "    <tr>\n",
       "      <th>55</th>\n",
       "      <td>2018</td>\n",
       "      <td>06.01.2018</td>\n",
       "      <td>Yankee Springs 50 Mile Winter Challenge (USA)</td>\n",
       "      <td>50mi</td>\n",
       "      <td>9</td>\n",
       "      <td>9:53:05 h</td>\n",
       "      <td>*Middleville, MI</td>\n",
       "      <td>USA</td>\n",
       "      <td>1983.0</td>\n",
       "      <td>M</td>\n",
       "      <td>M23</td>\n",
       "      <td>8.141</td>\n",
       "      <td>55</td>\n",
       "    </tr>\n",
       "    <tr>\n",
       "      <th>56</th>\n",
       "      <td>2018</td>\n",
       "      <td>06.01.2018</td>\n",
       "      <td>Yankee Springs 50 Mile Winter Challenge (USA)</td>\n",
       "      <td>50mi</td>\n",
       "      <td>9</td>\n",
       "      <td>11:09:35 h</td>\n",
       "      <td>*Waterloo, ON</td>\n",
       "      <td>CAN</td>\n",
       "      <td>1977.0</td>\n",
       "      <td>F</td>\n",
       "      <td>W40</td>\n",
       "      <td>7.211</td>\n",
       "      <td>56</td>\n",
       "    </tr>\n",
       "  </tbody>\n",
       "</table>\n",
       "</div>"
      ],
      "text/plain": [
       "    Year of event Event dates                                     Event name  \\\n",
       "55           2018  06.01.2018  Yankee Springs 50 Mile Winter Challenge (USA)   \n",
       "56           2018  06.01.2018  Yankee Springs 50 Mile Winter Challenge (USA)   \n",
       "\n",
       "   Event distance/length  Event number of finishers Athlete performance  \\\n",
       "55                  50mi                          9           9:53:05 h   \n",
       "56                  50mi                          9          11:09:35 h   \n",
       "\n",
       "        Athlete club Athlete country  Athlete year of birth Athlete gender  \\\n",
       "55  *Middleville, MI             USA                 1983.0              M   \n",
       "56     *Waterloo, ON             CAN                 1977.0              F   \n",
       "\n",
       "   Athlete age category Athlete average speed  Athlete ID  \n",
       "55                  M23                 8.141          55  \n",
       "56                  W40                 7.211          56  "
      ]
     },
     "execution_count": 142,
     "metadata": {},
     "output_type": "execute_result"
    }
   ],
   "source": [
    "df[df['Event name'].str.split('(').str.get(1).str.split(')').str.get(0) == 'USA'].head(2)"
   ]
  },
  {
   "cell_type": "code",
   "execution_count": 143,
   "metadata": {},
   "outputs": [
    {
     "data": {
      "text/html": [
       "<div>\n",
       "<style scoped>\n",
       "    .dataframe tbody tr th:only-of-type {\n",
       "        vertical-align: middle;\n",
       "    }\n",
       "\n",
       "    .dataframe tbody tr th {\n",
       "        vertical-align: top;\n",
       "    }\n",
       "\n",
       "    .dataframe thead th {\n",
       "        text-align: right;\n",
       "    }\n",
       "</style>\n",
       "<table border=\"1\" class=\"dataframe\">\n",
       "  <thead>\n",
       "    <tr style=\"text-align: right;\">\n",
       "      <th></th>\n",
       "      <th>Year of event</th>\n",
       "      <th>Event dates</th>\n",
       "      <th>Event name</th>\n",
       "      <th>Event distance/length</th>\n",
       "      <th>Event number of finishers</th>\n",
       "      <th>Athlete performance</th>\n",
       "      <th>Athlete club</th>\n",
       "      <th>Athlete country</th>\n",
       "      <th>Athlete year of birth</th>\n",
       "      <th>Athlete gender</th>\n",
       "      <th>Athlete age category</th>\n",
       "      <th>Athlete average speed</th>\n",
       "      <th>Athlete ID</th>\n",
       "    </tr>\n",
       "  </thead>\n",
       "  <tbody>\n",
       "    <tr>\n",
       "      <th>2539945</th>\n",
       "      <td>2020</td>\n",
       "      <td>02.02.2020</td>\n",
       "      <td>West Seattle Beach Run - Winter Edition (USA)</td>\n",
       "      <td>50km</td>\n",
       "      <td>20</td>\n",
       "      <td>3:17:55 h</td>\n",
       "      <td>*Normandy Park, WA</td>\n",
       "      <td>USA</td>\n",
       "      <td>1991.0</td>\n",
       "      <td>M</td>\n",
       "      <td>M23</td>\n",
       "      <td>15.158</td>\n",
       "      <td>71287</td>\n",
       "    </tr>\n",
       "    <tr>\n",
       "      <th>2539946</th>\n",
       "      <td>2020</td>\n",
       "      <td>02.02.2020</td>\n",
       "      <td>West Seattle Beach Run - Winter Edition (USA)</td>\n",
       "      <td>50km</td>\n",
       "      <td>20</td>\n",
       "      <td>4:02:32 h</td>\n",
       "      <td>*Gold Bar, WA</td>\n",
       "      <td>USA</td>\n",
       "      <td>1981.0</td>\n",
       "      <td>M</td>\n",
       "      <td>M35</td>\n",
       "      <td>12.369</td>\n",
       "      <td>629508</td>\n",
       "    </tr>\n",
       "  </tbody>\n",
       "</table>\n",
       "</div>"
      ],
      "text/plain": [
       "         Year of event Event dates  \\\n",
       "2539945           2020  02.02.2020   \n",
       "2539946           2020  02.02.2020   \n",
       "\n",
       "                                            Event name Event distance/length  \\\n",
       "2539945  West Seattle Beach Run - Winter Edition (USA)                  50km   \n",
       "2539946  West Seattle Beach Run - Winter Edition (USA)                  50km   \n",
       "\n",
       "         Event number of finishers Athlete performance        Athlete club  \\\n",
       "2539945                         20           3:17:55 h  *Normandy Park, WA   \n",
       "2539946                         20           4:02:32 h       *Gold Bar, WA   \n",
       "\n",
       "        Athlete country  Athlete year of birth Athlete gender  \\\n",
       "2539945             USA                 1991.0              M   \n",
       "2539946             USA                 1981.0              M   \n",
       "\n",
       "        Athlete age category Athlete average speed  Athlete ID  \n",
       "2539945                  M23                15.158       71287  \n",
       "2539946                  M35                12.369      629508  "
      ]
     },
     "execution_count": 143,
     "metadata": {},
     "output_type": "execute_result"
    }
   ],
   "source": [
    "#combining all the parameters; 50 km/mi, USA, 2020\n",
    "df[df['Event distance/length'].isin(['50km', '50mi']) & (df['Year of event'] == 2020)   &  (df['Event name'].str.split('(').str.get(1).str.split(')').str.get(0) == 'USA')].head(2)"
   ]
  },
  {
   "cell_type": "code",
   "execution_count": 144,
   "metadata": {},
   "outputs": [],
   "source": [
    "df2 = df[df['Event distance/length'].isin(['50km', '50mi']) & (df['Year of event'] == 2020)   &  (df['Event name'].str.split('(').str.get(1).str.split(')').str.get(0) == 'USA')]"
   ]
  },
  {
   "cell_type": "code",
   "execution_count": 145,
   "metadata": {},
   "outputs": [
    {
     "data": {
      "text/plain": [
       "2539945    West Seattle Beach Run - Winter Edition \n",
       "2539946    West Seattle Beach Run - Winter Edition \n",
       "2539947    West Seattle Beach Run - Winter Edition \n",
       "2539948    West Seattle Beach Run - Winter Edition \n",
       "2539949    West Seattle Beach Run - Winter Edition \n",
       "                             ...                   \n",
       "2760957     Yankee Springs Fall Trail Run Festival \n",
       "2760958     Yankee Springs Fall Trail Run Festival \n",
       "2760959     Yankee Springs Fall Trail Run Festival \n",
       "2760960     Yankee Springs Fall Trail Run Festival \n",
       "2760961     Yankee Springs Fall Trail Run Festival \n",
       "Name: Event name, Length: 26090, dtype: object"
      ]
     },
     "execution_count": 145,
     "metadata": {},
     "output_type": "execute_result"
    }
   ],
   "source": [
    "#removing USA from event name\n",
    "df2['Event name'].str.split('(').str.get(0)"
   ]
  },
  {
   "cell_type": "code",
   "execution_count": 146,
   "metadata": {},
   "outputs": [
    {
     "name": "stderr",
     "output_type": "stream",
     "text": [
      "/var/folders/1j/bkjhwqp963ggl1k7p_4t0mrh0000gn/T/ipykernel_1009/3473829760.py:1: SettingWithCopyWarning: \n",
      "A value is trying to be set on a copy of a slice from a DataFrame.\n",
      "Try using .loc[row_indexer,col_indexer] = value instead\n",
      "\n",
      "See the caveats in the documentation: https://pandas.pydata.org/pandas-docs/stable/user_guide/indexing.html#returning-a-view-versus-a-copy\n",
      "  df2['Event name'] = df2['Event name'].str.split('(').str.get(0)\n"
     ]
    }
   ],
   "source": [
    "df2['Event name'] = df2['Event name'].str.split('(').str.get(0)"
   ]
  },
  {
   "cell_type": "code",
   "execution_count": 147,
   "metadata": {},
   "outputs": [
    {
     "name": "stderr",
     "output_type": "stream",
     "text": [
      "/var/folders/1j/bkjhwqp963ggl1k7p_4t0mrh0000gn/T/ipykernel_1009/1958176905.py:2: SettingWithCopyWarning: \n",
      "A value is trying to be set on a copy of a slice from a DataFrame.\n",
      "Try using .loc[row_indexer,col_indexer] = value instead\n",
      "\n",
      "See the caveats in the documentation: https://pandas.pydata.org/pandas-docs/stable/user_guide/indexing.html#returning-a-view-versus-a-copy\n",
      "  df2['athlete_age'] = 2020 - df2['Athlete year of birth']\n"
     ]
    }
   ],
   "source": [
    "#clean up athlete age(shows gender and race)\n",
    "df2['athlete_age'] = 2020 - df2['Athlete year of birth']"
   ]
  },
  {
   "cell_type": "code",
   "execution_count": 148,
   "metadata": {},
   "outputs": [
    {
     "name": "stderr",
     "output_type": "stream",
     "text": [
      "/var/folders/1j/bkjhwqp963ggl1k7p_4t0mrh0000gn/T/ipykernel_1009/1073881892.py:2: SettingWithCopyWarning: \n",
      "A value is trying to be set on a copy of a slice from a DataFrame.\n",
      "Try using .loc[row_indexer,col_indexer] = value instead\n",
      "\n",
      "See the caveats in the documentation: https://pandas.pydata.org/pandas-docs/stable/user_guide/indexing.html#returning-a-view-versus-a-copy\n",
      "  df2['athlete_age'] = df2['Athlete performance'].str.split(' ').str.get(0)\n"
     ]
    }
   ],
   "source": [
    "#remove letter from athlete performance\n",
    "df2['athlete_age'] = df2['Athlete performance'].str.split(' ').str.get(0)"
   ]
  },
  {
   "cell_type": "code",
   "execution_count": 149,
   "metadata": {},
   "outputs": [
    {
     "data": {
      "text/html": [
       "<div>\n",
       "<style scoped>\n",
       "    .dataframe tbody tr th:only-of-type {\n",
       "        vertical-align: middle;\n",
       "    }\n",
       "\n",
       "    .dataframe tbody tr th {\n",
       "        vertical-align: top;\n",
       "    }\n",
       "\n",
       "    .dataframe thead th {\n",
       "        text-align: right;\n",
       "    }\n",
       "</style>\n",
       "<table border=\"1\" class=\"dataframe\">\n",
       "  <thead>\n",
       "    <tr style=\"text-align: right;\">\n",
       "      <th></th>\n",
       "      <th>Year of event</th>\n",
       "      <th>Event dates</th>\n",
       "      <th>Event name</th>\n",
       "      <th>Event distance/length</th>\n",
       "      <th>Event number of finishers</th>\n",
       "      <th>Athlete performance</th>\n",
       "      <th>Athlete gender</th>\n",
       "      <th>Athlete average speed</th>\n",
       "      <th>Athlete ID</th>\n",
       "      <th>athlete_age</th>\n",
       "    </tr>\n",
       "  </thead>\n",
       "  <tbody>\n",
       "    <tr>\n",
       "      <th>2539945</th>\n",
       "      <td>2020</td>\n",
       "      <td>02.02.2020</td>\n",
       "      <td>West Seattle Beach Run - Winter Edition</td>\n",
       "      <td>50km</td>\n",
       "      <td>20</td>\n",
       "      <td>3:17:55 h</td>\n",
       "      <td>M</td>\n",
       "      <td>15.158</td>\n",
       "      <td>71287</td>\n",
       "      <td>3:17:55</td>\n",
       "    </tr>\n",
       "    <tr>\n",
       "      <th>2539946</th>\n",
       "      <td>2020</td>\n",
       "      <td>02.02.2020</td>\n",
       "      <td>West Seattle Beach Run - Winter Edition</td>\n",
       "      <td>50km</td>\n",
       "      <td>20</td>\n",
       "      <td>4:02:32 h</td>\n",
       "      <td>M</td>\n",
       "      <td>12.369</td>\n",
       "      <td>629508</td>\n",
       "      <td>4:02:32</td>\n",
       "    </tr>\n",
       "  </tbody>\n",
       "</table>\n",
       "</div>"
      ],
      "text/plain": [
       "         Year of event Event dates                                Event name  \\\n",
       "2539945           2020  02.02.2020  West Seattle Beach Run - Winter Edition    \n",
       "2539946           2020  02.02.2020  West Seattle Beach Run - Winter Edition    \n",
       "\n",
       "        Event distance/length  Event number of finishers Athlete performance  \\\n",
       "2539945                  50km                         20           3:17:55 h   \n",
       "2539946                  50km                         20           4:02:32 h   \n",
       "\n",
       "        Athlete gender Athlete average speed  Athlete ID athlete_age  \n",
       "2539945              M                15.158       71287     3:17:55  \n",
       "2539946              M                12.369      629508     4:02:32  "
      ]
     },
     "execution_count": 149,
     "metadata": {},
     "output_type": "execute_result"
    }
   ],
   "source": [
    "#drop columns: Athletee club, athlete country, athlete year of birth, athlete age category\n",
    "df2 = df2.drop(['Athlete country', 'Athlete club', 'Athlete year of birth', 'Athlete age category'], axis = 1)\n",
    "df2.head(2)"
   ]
  },
  {
   "cell_type": "code",
   "execution_count": 150,
   "metadata": {},
   "outputs": [
    {
     "data": {
      "text/html": [
       "<div>\n",
       "<style scoped>\n",
       "    .dataframe tbody tr th:only-of-type {\n",
       "        vertical-align: middle;\n",
       "    }\n",
       "\n",
       "    .dataframe tbody tr th {\n",
       "        vertical-align: top;\n",
       "    }\n",
       "\n",
       "    .dataframe thead th {\n",
       "        text-align: right;\n",
       "    }\n",
       "</style>\n",
       "<table border=\"1\" class=\"dataframe\">\n",
       "  <thead>\n",
       "    <tr style=\"text-align: right;\">\n",
       "      <th></th>\n",
       "      <th>Year of event</th>\n",
       "      <th>Event dates</th>\n",
       "      <th>Event name</th>\n",
       "      <th>Event distance/length</th>\n",
       "      <th>Event number of finishers</th>\n",
       "      <th>Athlete performance</th>\n",
       "      <th>Athlete gender</th>\n",
       "      <th>Athlete average speed</th>\n",
       "      <th>Athlete ID</th>\n",
       "      <th>athlete_age</th>\n",
       "    </tr>\n",
       "  </thead>\n",
       "  <tbody>\n",
       "  </tbody>\n",
       "</table>\n",
       "</div>"
      ],
      "text/plain": [
       "Empty DataFrame\n",
       "Columns: [Year of event, Event dates, Event name, Event distance/length, Event number of finishers, Athlete performance, Athlete gender, Athlete average speed, Athlete ID, athlete_age]\n",
       "Index: []"
      ]
     },
     "execution_count": 150,
     "metadata": {},
     "output_type": "execute_result"
    }
   ],
   "source": [
    "#clean null values\n",
    "df2[df2['athlete_age'].isna()==1]"
   ]
  },
  {
   "cell_type": "code",
   "execution_count": 151,
   "metadata": {},
   "outputs": [
    {
     "data": {
      "text/plain": [
       "(26090, 10)"
      ]
     },
     "execution_count": 151,
     "metadata": {},
     "output_type": "execute_result"
    }
   ],
   "source": [
    "df2 = df2.dropna()\n",
    "df2.shape"
   ]
  },
  {
   "cell_type": "code",
   "execution_count": 152,
   "metadata": {},
   "outputs": [
    {
     "data": {
      "text/html": [
       "<div>\n",
       "<style scoped>\n",
       "    .dataframe tbody tr th:only-of-type {\n",
       "        vertical-align: middle;\n",
       "    }\n",
       "\n",
       "    .dataframe tbody tr th {\n",
       "        vertical-align: top;\n",
       "    }\n",
       "\n",
       "    .dataframe thead th {\n",
       "        text-align: right;\n",
       "    }\n",
       "</style>\n",
       "<table border=\"1\" class=\"dataframe\">\n",
       "  <thead>\n",
       "    <tr style=\"text-align: right;\">\n",
       "      <th></th>\n",
       "      <th>Year of event</th>\n",
       "      <th>Event dates</th>\n",
       "      <th>Event name</th>\n",
       "      <th>Event distance/length</th>\n",
       "      <th>Event number of finishers</th>\n",
       "      <th>Athlete performance</th>\n",
       "      <th>Athlete gender</th>\n",
       "      <th>Athlete average speed</th>\n",
       "      <th>Athlete ID</th>\n",
       "      <th>athlete_age</th>\n",
       "    </tr>\n",
       "  </thead>\n",
       "  <tbody>\n",
       "    <tr>\n",
       "      <th>0</th>\n",
       "      <td>2020</td>\n",
       "      <td>02.02.2020</td>\n",
       "      <td>West Seattle Beach Run - Winter Edition</td>\n",
       "      <td>50km</td>\n",
       "      <td>20</td>\n",
       "      <td>3:17:55 h</td>\n",
       "      <td>M</td>\n",
       "      <td>15.158</td>\n",
       "      <td>71287</td>\n",
       "      <td>3:17:55</td>\n",
       "    </tr>\n",
       "    <tr>\n",
       "      <th>1</th>\n",
       "      <td>2020</td>\n",
       "      <td>02.02.2020</td>\n",
       "      <td>West Seattle Beach Run - Winter Edition</td>\n",
       "      <td>50km</td>\n",
       "      <td>20</td>\n",
       "      <td>4:02:32 h</td>\n",
       "      <td>M</td>\n",
       "      <td>12.369</td>\n",
       "      <td>629508</td>\n",
       "      <td>4:02:32</td>\n",
       "    </tr>\n",
       "    <tr>\n",
       "      <th>2</th>\n",
       "      <td>2020</td>\n",
       "      <td>02.02.2020</td>\n",
       "      <td>West Seattle Beach Run - Winter Edition</td>\n",
       "      <td>50km</td>\n",
       "      <td>20</td>\n",
       "      <td>4:07:57 h</td>\n",
       "      <td>M</td>\n",
       "      <td>12.099</td>\n",
       "      <td>64838</td>\n",
       "      <td>4:07:57</td>\n",
       "    </tr>\n",
       "    <tr>\n",
       "      <th>3</th>\n",
       "      <td>2020</td>\n",
       "      <td>02.02.2020</td>\n",
       "      <td>West Seattle Beach Run - Winter Edition</td>\n",
       "      <td>50km</td>\n",
       "      <td>20</td>\n",
       "      <td>4:22:02 h</td>\n",
       "      <td>M</td>\n",
       "      <td>11.449</td>\n",
       "      <td>704450</td>\n",
       "      <td>4:22:02</td>\n",
       "    </tr>\n",
       "  </tbody>\n",
       "</table>\n",
       "</div>"
      ],
      "text/plain": [
       "   Year of event Event dates                                Event name  \\\n",
       "0           2020  02.02.2020  West Seattle Beach Run - Winter Edition    \n",
       "1           2020  02.02.2020  West Seattle Beach Run - Winter Edition    \n",
       "2           2020  02.02.2020  West Seattle Beach Run - Winter Edition    \n",
       "3           2020  02.02.2020  West Seattle Beach Run - Winter Edition    \n",
       "\n",
       "  Event distance/length  Event number of finishers Athlete performance  \\\n",
       "0                  50km                         20           3:17:55 h   \n",
       "1                  50km                         20           4:02:32 h   \n",
       "2                  50km                         20           4:07:57 h   \n",
       "3                  50km                         20           4:22:02 h   \n",
       "\n",
       "  Athlete gender Athlete average speed  Athlete ID athlete_age  \n",
       "0              M                15.158       71287     3:17:55  \n",
       "1              M                12.369      629508     4:02:32  \n",
       "2              M                12.099       64838     4:07:57  \n",
       "3              M                11.449      704450     4:22:02  "
      ]
     },
     "execution_count": 152,
     "metadata": {},
     "output_type": "execute_result"
    }
   ],
   "source": [
    "df2.reset_index(drop = True).head(4)"
   ]
  },
  {
   "cell_type": "code",
   "execution_count": 153,
   "metadata": {},
   "outputs": [
    {
     "ename": "ValueError",
     "evalue": "invalid literal for int() with base 10: '3:17:55'",
     "output_type": "error",
     "traceback": [
      "\u001b[0;31m---------------------------------------------------------------------------\u001b[0m",
      "\u001b[0;31mValueError\u001b[0m                                Traceback (most recent call last)",
      "Cell \u001b[0;32mIn[153], line 2\u001b[0m\n\u001b[1;32m      1\u001b[0m \u001b[38;5;66;03m#fix types\u001b[39;00m\n\u001b[0;32m----> 2\u001b[0m df2[\u001b[38;5;124m'\u001b[39m\u001b[38;5;124mathlete_age\u001b[39m\u001b[38;5;124m'\u001b[39m] \u001b[38;5;241m=\u001b[39m \u001b[43mdf2\u001b[49m\u001b[43m[\u001b[49m\u001b[38;5;124;43m'\u001b[39;49m\u001b[38;5;124;43mathlete_age\u001b[39;49m\u001b[38;5;124;43m'\u001b[39;49m\u001b[43m]\u001b[49m\u001b[38;5;241;43m.\u001b[39;49m\u001b[43mastype\u001b[49m\u001b[43m(\u001b[49m\u001b[38;5;28;43mint\u001b[39;49m\u001b[43m)\u001b[49m\n",
      "File \u001b[0;32m/Library/Frameworks/Python.framework/Versions/3.11/lib/python3.11/site-packages/pandas/core/generic.py:6534\u001b[0m, in \u001b[0;36mNDFrame.astype\u001b[0;34m(self, dtype, copy, errors)\u001b[0m\n\u001b[1;32m   6530\u001b[0m     results \u001b[38;5;241m=\u001b[39m [ser\u001b[38;5;241m.\u001b[39mastype(dtype, copy\u001b[38;5;241m=\u001b[39mcopy) \u001b[38;5;28;01mfor\u001b[39;00m _, ser \u001b[38;5;129;01min\u001b[39;00m \u001b[38;5;28mself\u001b[39m\u001b[38;5;241m.\u001b[39mitems()]\n\u001b[1;32m   6532\u001b[0m \u001b[38;5;28;01melse\u001b[39;00m:\n\u001b[1;32m   6533\u001b[0m     \u001b[38;5;66;03m# else, only a single dtype is given\u001b[39;00m\n\u001b[0;32m-> 6534\u001b[0m     new_data \u001b[38;5;241m=\u001b[39m \u001b[38;5;28;43mself\u001b[39;49m\u001b[38;5;241;43m.\u001b[39;49m\u001b[43m_mgr\u001b[49m\u001b[38;5;241;43m.\u001b[39;49m\u001b[43mastype\u001b[49m\u001b[43m(\u001b[49m\u001b[43mdtype\u001b[49m\u001b[38;5;241;43m=\u001b[39;49m\u001b[43mdtype\u001b[49m\u001b[43m,\u001b[49m\u001b[43m \u001b[49m\u001b[43mcopy\u001b[49m\u001b[38;5;241;43m=\u001b[39;49m\u001b[43mcopy\u001b[49m\u001b[43m,\u001b[49m\u001b[43m \u001b[49m\u001b[43merrors\u001b[49m\u001b[38;5;241;43m=\u001b[39;49m\u001b[43merrors\u001b[49m\u001b[43m)\u001b[49m\n\u001b[1;32m   6535\u001b[0m     res \u001b[38;5;241m=\u001b[39m \u001b[38;5;28mself\u001b[39m\u001b[38;5;241m.\u001b[39m_constructor_from_mgr(new_data, axes\u001b[38;5;241m=\u001b[39mnew_data\u001b[38;5;241m.\u001b[39maxes)\n\u001b[1;32m   6536\u001b[0m     \u001b[38;5;28;01mreturn\u001b[39;00m res\u001b[38;5;241m.\u001b[39m__finalize__(\u001b[38;5;28mself\u001b[39m, method\u001b[38;5;241m=\u001b[39m\u001b[38;5;124m\"\u001b[39m\u001b[38;5;124mastype\u001b[39m\u001b[38;5;124m\"\u001b[39m)\n",
      "File \u001b[0;32m/Library/Frameworks/Python.framework/Versions/3.11/lib/python3.11/site-packages/pandas/core/internals/managers.py:414\u001b[0m, in \u001b[0;36mBaseBlockManager.astype\u001b[0;34m(self, dtype, copy, errors)\u001b[0m\n\u001b[1;32m    411\u001b[0m \u001b[38;5;28;01melif\u001b[39;00m using_copy_on_write():\n\u001b[1;32m    412\u001b[0m     copy \u001b[38;5;241m=\u001b[39m \u001b[38;5;28;01mFalse\u001b[39;00m\n\u001b[0;32m--> 414\u001b[0m \u001b[38;5;28;01mreturn\u001b[39;00m \u001b[38;5;28;43mself\u001b[39;49m\u001b[38;5;241;43m.\u001b[39;49m\u001b[43mapply\u001b[49m\u001b[43m(\u001b[49m\n\u001b[1;32m    415\u001b[0m \u001b[43m    \u001b[49m\u001b[38;5;124;43m\"\u001b[39;49m\u001b[38;5;124;43mastype\u001b[39;49m\u001b[38;5;124;43m\"\u001b[39;49m\u001b[43m,\u001b[49m\n\u001b[1;32m    416\u001b[0m \u001b[43m    \u001b[49m\u001b[43mdtype\u001b[49m\u001b[38;5;241;43m=\u001b[39;49m\u001b[43mdtype\u001b[49m\u001b[43m,\u001b[49m\n\u001b[1;32m    417\u001b[0m \u001b[43m    \u001b[49m\u001b[43mcopy\u001b[49m\u001b[38;5;241;43m=\u001b[39;49m\u001b[43mcopy\u001b[49m\u001b[43m,\u001b[49m\n\u001b[1;32m    418\u001b[0m \u001b[43m    \u001b[49m\u001b[43merrors\u001b[49m\u001b[38;5;241;43m=\u001b[39;49m\u001b[43merrors\u001b[49m\u001b[43m,\u001b[49m\n\u001b[1;32m    419\u001b[0m \u001b[43m    \u001b[49m\u001b[43musing_cow\u001b[49m\u001b[38;5;241;43m=\u001b[39;49m\u001b[43musing_copy_on_write\u001b[49m\u001b[43m(\u001b[49m\u001b[43m)\u001b[49m\u001b[43m,\u001b[49m\n\u001b[1;32m    420\u001b[0m \u001b[43m\u001b[49m\u001b[43m)\u001b[49m\n",
      "File \u001b[0;32m/Library/Frameworks/Python.framework/Versions/3.11/lib/python3.11/site-packages/pandas/core/internals/managers.py:354\u001b[0m, in \u001b[0;36mBaseBlockManager.apply\u001b[0;34m(self, f, align_keys, **kwargs)\u001b[0m\n\u001b[1;32m    352\u001b[0m         applied \u001b[38;5;241m=\u001b[39m b\u001b[38;5;241m.\u001b[39mapply(f, \u001b[38;5;241m*\u001b[39m\u001b[38;5;241m*\u001b[39mkwargs)\n\u001b[1;32m    353\u001b[0m     \u001b[38;5;28;01melse\u001b[39;00m:\n\u001b[0;32m--> 354\u001b[0m         applied \u001b[38;5;241m=\u001b[39m \u001b[38;5;28;43mgetattr\u001b[39;49m\u001b[43m(\u001b[49m\u001b[43mb\u001b[49m\u001b[43m,\u001b[49m\u001b[43m \u001b[49m\u001b[43mf\u001b[49m\u001b[43m)\u001b[49m\u001b[43m(\u001b[49m\u001b[38;5;241;43m*\u001b[39;49m\u001b[38;5;241;43m*\u001b[39;49m\u001b[43mkwargs\u001b[49m\u001b[43m)\u001b[49m\n\u001b[1;32m    355\u001b[0m     result_blocks \u001b[38;5;241m=\u001b[39m extend_blocks(applied, result_blocks)\n\u001b[1;32m    357\u001b[0m out \u001b[38;5;241m=\u001b[39m \u001b[38;5;28mtype\u001b[39m(\u001b[38;5;28mself\u001b[39m)\u001b[38;5;241m.\u001b[39mfrom_blocks(result_blocks, \u001b[38;5;28mself\u001b[39m\u001b[38;5;241m.\u001b[39maxes)\n",
      "File \u001b[0;32m/Library/Frameworks/Python.framework/Versions/3.11/lib/python3.11/site-packages/pandas/core/internals/blocks.py:616\u001b[0m, in \u001b[0;36mBlock.astype\u001b[0;34m(self, dtype, copy, errors, using_cow)\u001b[0m\n\u001b[1;32m    596\u001b[0m \u001b[38;5;250m\u001b[39m\u001b[38;5;124;03m\"\"\"\u001b[39;00m\n\u001b[1;32m    597\u001b[0m \u001b[38;5;124;03mCoerce to the new dtype.\u001b[39;00m\n\u001b[1;32m    598\u001b[0m \n\u001b[0;32m   (...)\u001b[0m\n\u001b[1;32m    612\u001b[0m \u001b[38;5;124;03mBlock\u001b[39;00m\n\u001b[1;32m    613\u001b[0m \u001b[38;5;124;03m\"\"\"\u001b[39;00m\n\u001b[1;32m    614\u001b[0m values \u001b[38;5;241m=\u001b[39m \u001b[38;5;28mself\u001b[39m\u001b[38;5;241m.\u001b[39mvalues\n\u001b[0;32m--> 616\u001b[0m new_values \u001b[38;5;241m=\u001b[39m \u001b[43mastype_array_safe\u001b[49m\u001b[43m(\u001b[49m\u001b[43mvalues\u001b[49m\u001b[43m,\u001b[49m\u001b[43m \u001b[49m\u001b[43mdtype\u001b[49m\u001b[43m,\u001b[49m\u001b[43m \u001b[49m\u001b[43mcopy\u001b[49m\u001b[38;5;241;43m=\u001b[39;49m\u001b[43mcopy\u001b[49m\u001b[43m,\u001b[49m\u001b[43m \u001b[49m\u001b[43merrors\u001b[49m\u001b[38;5;241;43m=\u001b[39;49m\u001b[43merrors\u001b[49m\u001b[43m)\u001b[49m\n\u001b[1;32m    618\u001b[0m new_values \u001b[38;5;241m=\u001b[39m maybe_coerce_values(new_values)\n\u001b[1;32m    620\u001b[0m refs \u001b[38;5;241m=\u001b[39m \u001b[38;5;28;01mNone\u001b[39;00m\n",
      "File \u001b[0;32m/Library/Frameworks/Python.framework/Versions/3.11/lib/python3.11/site-packages/pandas/core/dtypes/astype.py:238\u001b[0m, in \u001b[0;36mastype_array_safe\u001b[0;34m(values, dtype, copy, errors)\u001b[0m\n\u001b[1;32m    235\u001b[0m     dtype \u001b[38;5;241m=\u001b[39m dtype\u001b[38;5;241m.\u001b[39mnumpy_dtype\n\u001b[1;32m    237\u001b[0m \u001b[38;5;28;01mtry\u001b[39;00m:\n\u001b[0;32m--> 238\u001b[0m     new_values \u001b[38;5;241m=\u001b[39m \u001b[43mastype_array\u001b[49m\u001b[43m(\u001b[49m\u001b[43mvalues\u001b[49m\u001b[43m,\u001b[49m\u001b[43m \u001b[49m\u001b[43mdtype\u001b[49m\u001b[43m,\u001b[49m\u001b[43m \u001b[49m\u001b[43mcopy\u001b[49m\u001b[38;5;241;43m=\u001b[39;49m\u001b[43mcopy\u001b[49m\u001b[43m)\u001b[49m\n\u001b[1;32m    239\u001b[0m \u001b[38;5;28;01mexcept\u001b[39;00m (\u001b[38;5;167;01mValueError\u001b[39;00m, \u001b[38;5;167;01mTypeError\u001b[39;00m):\n\u001b[1;32m    240\u001b[0m     \u001b[38;5;66;03m# e.g. _astype_nansafe can fail on object-dtype of strings\u001b[39;00m\n\u001b[1;32m    241\u001b[0m     \u001b[38;5;66;03m#  trying to convert to float\u001b[39;00m\n\u001b[1;32m    242\u001b[0m     \u001b[38;5;28;01mif\u001b[39;00m errors \u001b[38;5;241m==\u001b[39m \u001b[38;5;124m\"\u001b[39m\u001b[38;5;124mignore\u001b[39m\u001b[38;5;124m\"\u001b[39m:\n",
      "File \u001b[0;32m/Library/Frameworks/Python.framework/Versions/3.11/lib/python3.11/site-packages/pandas/core/dtypes/astype.py:183\u001b[0m, in \u001b[0;36mastype_array\u001b[0;34m(values, dtype, copy)\u001b[0m\n\u001b[1;32m    180\u001b[0m     values \u001b[38;5;241m=\u001b[39m values\u001b[38;5;241m.\u001b[39mastype(dtype, copy\u001b[38;5;241m=\u001b[39mcopy)\n\u001b[1;32m    182\u001b[0m \u001b[38;5;28;01melse\u001b[39;00m:\n\u001b[0;32m--> 183\u001b[0m     values \u001b[38;5;241m=\u001b[39m \u001b[43m_astype_nansafe\u001b[49m\u001b[43m(\u001b[49m\u001b[43mvalues\u001b[49m\u001b[43m,\u001b[49m\u001b[43m \u001b[49m\u001b[43mdtype\u001b[49m\u001b[43m,\u001b[49m\u001b[43m \u001b[49m\u001b[43mcopy\u001b[49m\u001b[38;5;241;43m=\u001b[39;49m\u001b[43mcopy\u001b[49m\u001b[43m)\u001b[49m\n\u001b[1;32m    185\u001b[0m \u001b[38;5;66;03m# in pandas we don't store numpy str dtypes, so convert to object\u001b[39;00m\n\u001b[1;32m    186\u001b[0m \u001b[38;5;28;01mif\u001b[39;00m \u001b[38;5;28misinstance\u001b[39m(dtype, np\u001b[38;5;241m.\u001b[39mdtype) \u001b[38;5;129;01mand\u001b[39;00m \u001b[38;5;28missubclass\u001b[39m(values\u001b[38;5;241m.\u001b[39mdtype\u001b[38;5;241m.\u001b[39mtype, \u001b[38;5;28mstr\u001b[39m):\n",
      "File \u001b[0;32m/Library/Frameworks/Python.framework/Versions/3.11/lib/python3.11/site-packages/pandas/core/dtypes/astype.py:134\u001b[0m, in \u001b[0;36m_astype_nansafe\u001b[0;34m(arr, dtype, copy, skipna)\u001b[0m\n\u001b[1;32m    130\u001b[0m     \u001b[38;5;28;01mraise\u001b[39;00m \u001b[38;5;167;01mValueError\u001b[39;00m(msg)\n\u001b[1;32m    132\u001b[0m \u001b[38;5;28;01mif\u001b[39;00m copy \u001b[38;5;129;01mor\u001b[39;00m arr\u001b[38;5;241m.\u001b[39mdtype \u001b[38;5;241m==\u001b[39m \u001b[38;5;28mobject\u001b[39m \u001b[38;5;129;01mor\u001b[39;00m dtype \u001b[38;5;241m==\u001b[39m \u001b[38;5;28mobject\u001b[39m:\n\u001b[1;32m    133\u001b[0m     \u001b[38;5;66;03m# Explicit copy, or required since NumPy can't view from / to object.\u001b[39;00m\n\u001b[0;32m--> 134\u001b[0m     \u001b[38;5;28;01mreturn\u001b[39;00m \u001b[43marr\u001b[49m\u001b[38;5;241;43m.\u001b[39;49m\u001b[43mastype\u001b[49m\u001b[43m(\u001b[49m\u001b[43mdtype\u001b[49m\u001b[43m,\u001b[49m\u001b[43m \u001b[49m\u001b[43mcopy\u001b[49m\u001b[38;5;241;43m=\u001b[39;49m\u001b[38;5;28;43;01mTrue\u001b[39;49;00m\u001b[43m)\u001b[49m\n\u001b[1;32m    136\u001b[0m \u001b[38;5;28;01mreturn\u001b[39;00m arr\u001b[38;5;241m.\u001b[39mastype(dtype, copy\u001b[38;5;241m=\u001b[39mcopy)\n",
      "\u001b[0;31mValueError\u001b[0m: invalid literal for int() with base 10: '3:17:55'"
     ]
    }
   ],
   "source": [
    "#fix types\n",
    "df2['athlete_age'] = df2['athlete_age'].astype(int)"
   ]
  },
  {
   "cell_type": "code",
   "execution_count": null,
   "metadata": {},
   "outputs": [],
   "source": [
    "df2['Athlete average speed'] = df2['Athlete average speed'].astype(float)"
   ]
  },
  {
   "cell_type": "code",
   "execution_count": null,
   "metadata": {},
   "outputs": [
    {
     "data": {
      "text/plain": [
       "Year of event                  int64\n",
       "Event dates                   object\n",
       "Event name                    object\n",
       "Event distance/length         object\n",
       "Event number of finishers      int64\n",
       "Athlete performance           object\n",
       "Athlete gender                object\n",
       "Athlete average speed        float64\n",
       "Athlete ID                     int64\n",
       "athlete_Age                  float64\n",
       "athlete_age                    int64\n",
       "dtype: object"
      ]
     },
     "execution_count": 85,
     "metadata": {},
     "output_type": "execute_result"
    }
   ],
   "source": [
    "#rename columns\n",
    "df2.dtypes"
   ]
  },
  {
   "cell_type": "code",
   "execution_count": null,
   "metadata": {},
   "outputs": [],
   "source": [
    "#rename columns\n",
    "#Year of event                  int64\n",
    "#Event dates                   object\n",
    "#Event name                    object\n",
    "#Event distance/length         object\n",
    "#Event number of finishers      int64\n",
    "#Athlete performance           object\n",
    "#Athlete gender                object\n",
    "#Athlete average speed        float64\n",
    "#Athlete ID                     int64\n",
    "#athlete_age                    int64\n",
    "\n"
   ]
  },
  {
   "cell_type": "code",
   "execution_count": null,
   "metadata": {},
   "outputs": [],
   "source": [
    "df2 = df2.rename(columns = {'Year of event': 'Year',\n",
    "                            'Event dates': 'Race_Day',\n",
    "                            'Event name': 'Race_Name',\n",
    "                            'Event distance/length': 'Race_Length',\n",
    "                            'Event number of finishers': 'Race_number_of_Finishers',\n",
    "                            'Athlete performance': 'Athlete_Performance',\n",
    "                            'Athlete gender': 'Athlete_Gender',\n",
    "                            'Athlete average speed': 'Athlete_Average_Speed',\n",
    "                            'Athlete ID': 'Athlete_ID',\n",
    "                            'athlete_age': 'Athlete_Age',\n",
    "                            })"
   ]
  },
  {
   "cell_type": "code",
   "execution_count": null,
   "metadata": {},
   "outputs": [
    {
     "data": {
      "text/plain": [
       "Year                          int64\n",
       "Race_Day                     object\n",
       "Race_Name                    object\n",
       "Race_Length                  object\n",
       "Race_number_of_Finishers      int64\n",
       "Athlete_Performance          object\n",
       "Athlete_Gender               object\n",
       "Athlete_Average_Speed       float64\n",
       "Athlete_ID                    int64\n",
       "athlete_Age                 float64\n",
       "Athlete_Age                   int64\n",
       "dtype: object"
      ]
     },
     "execution_count": 88,
     "metadata": {},
     "output_type": "execute_result"
    }
   ],
   "source": [
    "df2.dtypes"
   ]
  },
  {
   "cell_type": "code",
   "execution_count": null,
   "metadata": {},
   "outputs": [],
   "source": [
    "#reorder columns\n",
    "df3 = df2[['Race_Day', 'Race_Name', 'Race_Length', 'Race_number_of_Finishers', 'Athlete_ID', 'Athlete_Gender', 'Athlete_Age', 'Athlete_Performance', 'Athlete_Average_Speed' ]]"
   ]
  },
  {
   "cell_type": "code",
   "execution_count": null,
   "metadata": {},
   "outputs": [
    {
     "data": {
      "text/plain": [
       "<Axes: xlabel='Race_Length', ylabel='Count'>"
      ]
     },
     "execution_count": 115,
     "metadata": {},
     "output_type": "execute_result"
    },
    {
     "data": {
      "image/png": "[encoded data removed]",
      "text/plain": [
       "<Figure size 640x480 with 1 Axes>"
      ]
     },
     "metadata": {},
     "output_type": "display_data"
    }
   ],
   "source": [
    "sns.histplot(df3, x = 'Race_Length', hue = 'Athlete_Gender')"
   ]
  },
  {
   "cell_type": "code",
   "execution_count": null,
   "metadata": {},
   "outputs": [
    {
     "data": {
      "text/plain": [
       "<seaborn.axisgrid.FacetGrid at 0x31df1ba90>"
      ]
     },
     "execution_count": 116,
     "metadata": {},
     "output_type": "execute_result"
    },
    {
     "data": {
      "image/png": "[encoded data removed]",
      "text/plain": [
       "<Figure size 500x500 with 1 Axes>"
      ]
     },
     "metadata": {},
     "output_type": "display_data"
    }
   ],
   "source": [
    "#plotting the average athlete speed with displot\n",
    "sns.displot(df3[df3['Race_Length'] == '50mi']['Athlete_Average_Speed'])"
   ]
  },
  {
   "cell_type": "code",
   "execution_count": null,
   "metadata": {},
   "outputs": [
    {
     "data": {
      "text/plain": [
       "<Axes: xlabel='Race_Length', ylabel='Athlete_Average_Speed'>"
      ]
     },
     "execution_count": 119,
     "metadata": {},
     "output_type": "execute_result"
    },
    {
     "data": {
      "image/png": "[encoded data removed]",
      "text/plain": [
       "<Figure size 640x480 with 1 Axes>"
      ]
     },
     "metadata": {},
     "output_type": "display_data"
    }
   ],
   "source": [
    "#plotting the average speed per gender using a violin plot\n",
    "sns.violinplot(data = df3, x= 'Race_Length', y= 'Athlete_Average_Speed', hue = 'Athlete_Gender', split = True, inner = 'quart', linewidth = 1) "
   ]
  },
  {
   "cell_type": "code",
   "execution_count": null,
   "metadata": {},
   "outputs": [
    {
     "data": {
      "text/plain": [
       "<seaborn.axisgrid.FacetGrid at 0x2b4d46450>"
      ]
     },
     "execution_count": 122,
     "metadata": {},
     "output_type": "execute_result"
    },
    {
     "data": {
      "image/png": "[encoded data removed]",
      "text/plain": [
       "<Figure size 619.111x500 with 1 Axes>"
      ]
     },
     "metadata": {},
     "output_type": "display_data"
    }
   ],
   "source": [
    "sns.lmplot(data = df3, x= 'Athlete_Age', y= 'Athlete_Average_Speed', hue = 'Athlete_Gender')"
   ]
  },
  {
   "cell_type": "code",
   "execution_count": null,
   "metadata": {},
   "outputs": [
    {
     "data": {
      "text/plain": [
       "Race_Length  Athlete_Gender\n",
       "50km         F                 7.083011\n",
       "             M                 7.738985\n",
       "50mi         F                 6.834371\n",
       "             M                 7.257633\n",
       "Name: Athlete_Average_Speed, dtype: float64"
      ]
     },
     "execution_count": 124,
     "metadata": {},
     "output_type": "execute_result"
    }
   ],
   "source": [
    "#Year\n",
    "##Race_Day\n",
    "#Race_Name\n",
    "#Race_Length\n",
    "#Race_number_of_Finishers\n",
    "#Athlete_Performance\n",
    "#Athlete_Gender\n",
    "#Athlete_Average_Speed\n",
    "#Athlete_ID\n",
    "#athlete_Age\n",
    "#Athlete_Age\n",
    "#difference in speed for 50k,50mi male to female\n",
    "df3.groupby(['Race_Length', 'Athlete_Gender'])['Athlete_Average_Speed'].mean()"
   ]
  },
  {
   "cell_type": "code",
   "execution_count": null,
   "metadata": {},
   "outputs": [
    {
     "data": {
      "text/html": [
       "<div>\n",
       "<style scoped>\n",
       "    .dataframe tbody tr th:only-of-type {\n",
       "        vertical-align: middle;\n",
       "    }\n",
       "\n",
       "    .dataframe tbody tr th {\n",
       "        vertical-align: top;\n",
       "    }\n",
       "\n",
       "    .dataframe thead th {\n",
       "        text-align: right;\n",
       "    }\n",
       "</style>\n",
       "<table border=\"1\" class=\"dataframe\">\n",
       "  <thead>\n",
       "    <tr style=\"text-align: right;\">\n",
       "      <th></th>\n",
       "      <th>mean</th>\n",
       "      <th>count</th>\n",
       "    </tr>\n",
       "    <tr>\n",
       "      <th>Athlete_Age</th>\n",
       "      <th></th>\n",
       "      <th></th>\n",
       "    </tr>\n",
       "  </thead>\n",
       "  <tbody>\n",
       "    <tr>\n",
       "      <th>29</th>\n",
       "      <td>7.902252</td>\n",
       "      <td>135</td>\n",
       "    </tr>\n",
       "    <tr>\n",
       "      <th>23</th>\n",
       "      <td>7.779800</td>\n",
       "      <td>55</td>\n",
       "    </tr>\n",
       "    <tr>\n",
       "      <th>28</th>\n",
       "      <td>7.575252</td>\n",
       "      <td>107</td>\n",
       "    </tr>\n",
       "    <tr>\n",
       "      <th>30</th>\n",
       "      <td>7.569204</td>\n",
       "      <td>157</td>\n",
       "    </tr>\n",
       "    <tr>\n",
       "      <th>25</th>\n",
       "      <td>7.540923</td>\n",
       "      <td>91</td>\n",
       "    </tr>\n",
       "  </tbody>\n",
       "</table>\n",
       "</div>"
      ],
      "text/plain": [
       "                 mean  count\n",
       "Athlete_Age                 \n",
       "29           7.902252    135\n",
       "23           7.779800     55\n",
       "28           7.575252    107\n",
       "30           7.569204    157\n",
       "25           7.540923     91"
      ]
     },
     "execution_count": 126,
     "metadata": {},
     "output_type": "execute_result"
    }
   ],
   "source": [
    "#age groups that perform the best\n",
    "df3.query('Race_Length == \"50mi\"').groupby('Athlete_Age')['Athlete_Average_Speed'].agg(['mean', 'count']).sort_values('mean', ascending = False).query('count>19').head(5)"
   ]
  },
  {
   "cell_type": "code",
   "execution_count": null,
   "metadata": {},
   "outputs": [
    {
     "data": {
      "text/html": [
       "<div>\n",
       "<style scoped>\n",
       "    .dataframe tbody tr th:only-of-type {\n",
       "        vertical-align: middle;\n",
       "    }\n",
       "\n",
       "    .dataframe tbody tr th {\n",
       "        vertical-align: top;\n",
       "    }\n",
       "\n",
       "    .dataframe thead th {\n",
       "        text-align: right;\n",
       "    }\n",
       "</style>\n",
       "<table border=\"1\" class=\"dataframe\">\n",
       "  <thead>\n",
       "    <tr style=\"text-align: right;\">\n",
       "      <th></th>\n",
       "      <th>mean</th>\n",
       "      <th>count</th>\n",
       "    </tr>\n",
       "    <tr>\n",
       "      <th>Athlete_Age</th>\n",
       "      <th></th>\n",
       "      <th></th>\n",
       "    </tr>\n",
       "  </thead>\n",
       "  <tbody>\n",
       "    <tr>\n",
       "      <th>70</th>\n",
       "      <td>5.470667</td>\n",
       "      <td>12</td>\n",
       "    </tr>\n",
       "    <tr>\n",
       "      <th>65</th>\n",
       "      <td>5.934786</td>\n",
       "      <td>14</td>\n",
       "    </tr>\n",
       "    <tr>\n",
       "      <th>68</th>\n",
       "      <td>5.957500</td>\n",
       "      <td>10</td>\n",
       "    </tr>\n",
       "    <tr>\n",
       "      <th>67</th>\n",
       "      <td>6.114909</td>\n",
       "      <td>11</td>\n",
       "    </tr>\n",
       "    <tr>\n",
       "      <th>66</th>\n",
       "      <td>6.194300</td>\n",
       "      <td>10</td>\n",
       "    </tr>\n",
       "  </tbody>\n",
       "</table>\n",
       "</div>"
      ],
      "text/plain": [
       "                 mean  count\n",
       "Athlete_Age                 \n",
       "70           5.470667     12\n",
       "65           5.934786     14\n",
       "68           5.957500     10\n",
       "67           6.114909     11\n",
       "66           6.194300     10"
      ]
     },
     "execution_count": 131,
     "metadata": {},
     "output_type": "execute_result"
    }
   ],
   "source": [
    "#age groups that perform the worst\n",
    "\n",
    "df3.query('Race_Length == \"50mi\"').groupby('Athlete_Age')['Athlete_Average_Speed'].agg(['mean', 'count']).sort_values('mean', ascending = True).query('count>9').head(5)"
   ]
  }
 ],
 "metadata": {
  "kernelspec": {
   "display_name": "Python 3",
   "language": "python",
   "name": "python3"
  },
  "language_info": {
   "codemirror_mode": {
    "name": "ipython",
    "version": 3
   },
   "file_extension": ".py",
   "mimetype": "text/x-python",
   "name": "python",
   "nbconvert_exporter": "python",
   "pygments_lexer": "ipython3",
   "version": "3.11.4"
  }
 },
 "nbformat": 4,
 "nbformat_minor": 2
}
