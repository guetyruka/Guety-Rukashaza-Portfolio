{
 "cells": [
  {
   "cell_type": "code",
   "execution_count": 11,
   "id": "1ef4a9c8-fd03-46e5-84e6-20cf191f026a",
   "metadata": {},
   "outputs": [],
   "source": [
    "import numpy as np\n",
    "import pandas"
   ]
  },
  {
   "cell_type": "code",
   "execution_count": 12,
   "id": "caf95787-707a-4fe2-a8e6-d3b77ffb00d6",
   "metadata": {},
   "outputs": [
    {
     "data": {
      "text/html": [
       "<div>\n",
       "<style scoped>\n",
       "    .dataframe tbody tr th:only-of-type {\n",
       "        vertical-align: middle;\n",
       "    }\n",
       "\n",
       "    .dataframe tbody tr th {\n",
       "        vertical-align: top;\n",
       "    }\n",
       "\n",
       "    .dataframe thead th {\n",
       "        text-align: right;\n",
       "    }\n",
       "</style>\n",
       "<table border=\"1\" class=\"dataframe\">\n",
       "  <thead>\n",
       "    <tr style=\"text-align: right;\">\n",
       "      <th></th>\n",
       "      <th>Player</th>\n",
       "      <th>Pos</th>\n",
       "      <th>Age</th>\n",
       "      <th>Tm</th>\n",
       "      <th>G</th>\n",
       "      <th>GS</th>\n",
       "      <th>MP</th>\n",
       "      <th>FG</th>\n",
       "      <th>FGA</th>\n",
       "      <th>FG%</th>\n",
       "      <th>...</th>\n",
       "      <th>FT%</th>\n",
       "      <th>ORB</th>\n",
       "      <th>DRB</th>\n",
       "      <th>TRB</th>\n",
       "      <th>AST</th>\n",
       "      <th>STL</th>\n",
       "      <th>BLK</th>\n",
       "      <th>TOV</th>\n",
       "      <th>PF</th>\n",
       "      <th>PTS</th>\n",
       "    </tr>\n",
       "  </thead>\n",
       "  <tbody>\n",
       "    <tr>\n",
       "      <th>0</th>\n",
       "      <td>Precious Achiuwa</td>\n",
       "      <td>C</td>\n",
       "      <td>23</td>\n",
       "      <td>TOR</td>\n",
       "      <td>55</td>\n",
       "      <td>12</td>\n",
       "      <td>20.7</td>\n",
       "      <td>3.6</td>\n",
       "      <td>7.3</td>\n",
       "      <td>0.485</td>\n",
       "      <td>...</td>\n",
       "      <td>0.702</td>\n",
       "      <td>1.8</td>\n",
       "      <td>4.1</td>\n",
       "      <td>6.0</td>\n",
       "      <td>0.9</td>\n",
       "      <td>0.6</td>\n",
       "      <td>0.5</td>\n",
       "      <td>1.1</td>\n",
       "      <td>1.9</td>\n",
       "      <td>9.2</td>\n",
       "    </tr>\n",
       "    <tr>\n",
       "      <th>1</th>\n",
       "      <td>Steven Adams</td>\n",
       "      <td>C</td>\n",
       "      <td>29</td>\n",
       "      <td>MEM</td>\n",
       "      <td>42</td>\n",
       "      <td>42</td>\n",
       "      <td>27.0</td>\n",
       "      <td>3.7</td>\n",
       "      <td>6.3</td>\n",
       "      <td>0.597</td>\n",
       "      <td>...</td>\n",
       "      <td>0.364</td>\n",
       "      <td>5.1</td>\n",
       "      <td>6.5</td>\n",
       "      <td>11.5</td>\n",
       "      <td>2.3</td>\n",
       "      <td>0.9</td>\n",
       "      <td>1.1</td>\n",
       "      <td>1.9</td>\n",
       "      <td>2.3</td>\n",
       "      <td>8.6</td>\n",
       "    </tr>\n",
       "    <tr>\n",
       "      <th>2</th>\n",
       "      <td>Bam Adebayo</td>\n",
       "      <td>C</td>\n",
       "      <td>25</td>\n",
       "      <td>MIA</td>\n",
       "      <td>75</td>\n",
       "      <td>75</td>\n",
       "      <td>34.6</td>\n",
       "      <td>8.0</td>\n",
       "      <td>14.9</td>\n",
       "      <td>0.540</td>\n",
       "      <td>...</td>\n",
       "      <td>0.806</td>\n",
       "      <td>2.5</td>\n",
       "      <td>6.7</td>\n",
       "      <td>9.2</td>\n",
       "      <td>3.2</td>\n",
       "      <td>1.2</td>\n",
       "      <td>0.8</td>\n",
       "      <td>2.5</td>\n",
       "      <td>2.8</td>\n",
       "      <td>20.4</td>\n",
       "    </tr>\n",
       "    <tr>\n",
       "      <th>3</th>\n",
       "      <td>Ochai Agbaji</td>\n",
       "      <td>SG</td>\n",
       "      <td>22</td>\n",
       "      <td>UTA</td>\n",
       "      <td>59</td>\n",
       "      <td>22</td>\n",
       "      <td>20.5</td>\n",
       "      <td>2.8</td>\n",
       "      <td>6.5</td>\n",
       "      <td>0.427</td>\n",
       "      <td>...</td>\n",
       "      <td>0.812</td>\n",
       "      <td>0.7</td>\n",
       "      <td>1.3</td>\n",
       "      <td>2.1</td>\n",
       "      <td>1.1</td>\n",
       "      <td>0.3</td>\n",
       "      <td>0.3</td>\n",
       "      <td>0.7</td>\n",
       "      <td>1.7</td>\n",
       "      <td>7.9</td>\n",
       "    </tr>\n",
       "    <tr>\n",
       "      <th>4</th>\n",
       "      <td>Santi Aldama</td>\n",
       "      <td>PF</td>\n",
       "      <td>22</td>\n",
       "      <td>MEM</td>\n",
       "      <td>77</td>\n",
       "      <td>20</td>\n",
       "      <td>21.8</td>\n",
       "      <td>3.2</td>\n",
       "      <td>6.8</td>\n",
       "      <td>0.470</td>\n",
       "      <td>...</td>\n",
       "      <td>0.750</td>\n",
       "      <td>1.1</td>\n",
       "      <td>3.7</td>\n",
       "      <td>4.8</td>\n",
       "      <td>1.3</td>\n",
       "      <td>0.6</td>\n",
       "      <td>0.6</td>\n",
       "      <td>0.8</td>\n",
       "      <td>1.9</td>\n",
       "      <td>9.0</td>\n",
       "    </tr>\n",
       "  </tbody>\n",
       "</table>\n",
       "<p>5 rows × 29 columns</p>\n",
       "</div>"
      ],
      "text/plain": [
       "             Player Pos  Age   Tm   G  GS    MP   FG   FGA    FG%  ...    FT%  \\\n",
       "0  Precious Achiuwa   C   23  TOR  55  12  20.7  3.6   7.3  0.485  ...  0.702   \n",
       "1      Steven Adams   C   29  MEM  42  42  27.0  3.7   6.3  0.597  ...  0.364   \n",
       "2       Bam Adebayo   C   25  MIA  75  75  34.6  8.0  14.9  0.540  ...  0.806   \n",
       "3      Ochai Agbaji  SG   22  UTA  59  22  20.5  2.8   6.5  0.427  ...  0.812   \n",
       "4      Santi Aldama  PF   22  MEM  77  20  21.8  3.2   6.8  0.470  ...  0.750   \n",
       "\n",
       "   ORB  DRB   TRB  AST  STL  BLK  TOV   PF   PTS  \n",
       "0  1.8  4.1   6.0  0.9  0.6  0.5  1.1  1.9   9.2  \n",
       "1  5.1  6.5  11.5  2.3  0.9  1.1  1.9  2.3   8.6  \n",
       "2  2.5  6.7   9.2  3.2  1.2  0.8  2.5  2.8  20.4  \n",
       "3  0.7  1.3   2.1  1.1  0.3  0.3  0.7  1.7   7.9  \n",
       "4  1.1  3.7   4.8  1.3  0.6  0.6  0.8  1.9   9.0  \n",
       "\n",
       "[5 rows x 29 columns]"
      ]
     },
     "execution_count": 12,
     "metadata": {},
     "output_type": "execute_result"
    }
   ],
   "source": [
    "mvp = pandas.read_csv(\"mvpp.csv\")\n",
    "\n",
    "mvp.head()\n"
   ]
  },
  {
   "cell_type": "code",
   "execution_count": 13,
   "id": "f5b89a9b-09fa-4908-8e4f-66027c73f608",
   "metadata": {},
   "outputs": [
    {
     "name": "stdout",
     "output_type": "stream",
     "text": [
      "              Pos  Age   Tm   G  GS    MP   FG   FGA    FG%   3P  ...    FT%  \\\n",
      "Player                                                            ...          \n",
      "A.J. Green     SG   23  MIL  35   1   9.9  1.5   3.6  0.424  1.3  ...  1.000   \n",
      "A.J. Lawson    SG   22  TOT  15   0   7.6  1.5   3.1  1.000  0.7  ...  0.250   \n",
      "AJ Griffin     SF   19  ATL  72  12  19.5  3.4   7.4  0.465  1.4  ...  0.894   \n",
      "Aaron Gordon   PF   27  DEN  68  68  30.2  6.3  11.2  0.564  0.9  ...  0.608   \n",
      "Aaron Holiday  PG   26  ATL  63   6  13.4  1.5   3.5  0.418  0.6  ...  0.844   \n",
      "\n",
      "               ORB  DRB  TRB  AST  STL  BLK  TOV   PF   PTS  \n",
      "Player                                                       \n",
      "A.J. Green     0.2  1.1  1.3  0.6  0.2  0.0  0.3  0.9   4.4  \n",
      "A.J. Lawson    0.4  1.0  1.4  0.1  0.1  0.0  0.2  1.0   3.9  \n",
      "AJ Griffin     0.5  1.6  2.1  1.0  0.6  0.2  0.6  1.2   8.9  \n",
      "Aaron Gordon   2.4  4.1  6.6  3.0  0.8  0.8  1.4  1.9  16.3  \n",
      "Aaron Holiday  0.4  0.8  1.2  1.4  0.6  0.2  0.6  1.3   3.9  \n",
      "\n",
      "[5 rows x 28 columns]\n"
     ]
    }
   ],
   "source": [
    "\n",
    "mvp_cleaned = mvp.drop(columns=[col for col in mvp.columns if 'TOT' in col])\n",
    "\n",
    "mvp_cleaned = mvp_cleaned.groupby('Player').max()\n",
    "\n",
    "print(mvp_cleaned.head(5))\n"
   ]
  },
  {
   "cell_type": "code",
   "execution_count": 14,
   "id": "3509ab6a-4585-46cb-a2ad-6dbcd3294fcd",
   "metadata": {},
   "outputs": [
    {
     "name": "stdout",
     "output_type": "stream",
     "text": [
      "The average age in the NBA is 25.727272727272727\n"
     ]
    }
   ],
   "source": [
    "#Average Age\n",
    "age = mvp_cleaned[\"Age\"]\n",
    "average_age = age.mean()\n",
    "print(\"The average age in the NBA is\", average_age)\n"
   ]
  },
  {
   "cell_type": "code",
   "execution_count": 15,
   "id": "46f1432d-5f7d-4fb7-adbc-2d5b32a6e265",
   "metadata": {},
   "outputs": [
    {
     "name": "stdout",
     "output_type": "stream",
     "text": [
      "The average age for SG players is 24.65 years.\n",
      "The average age for SF players is 25.53 years.\n",
      "The average age for PF players is 26.24 years.\n",
      "The average age for PG players is 26.22 years.\n",
      "The average age for C players is 26.22 years.\n",
      "The average age for PF-C players is 28.00 years.\n",
      "The average age for SF-PF players is 23.00 years.\n",
      "The average age for SG-PG players is 31.50 years.\n"
     ]
    }
   ],
   "source": [
    "\n",
    "\n",
    "# Assuming mvp_cleaned is your DataFrame and \"Pos max\" is the column name for positions\n",
    "positions = mvp_cleaned[\"Pos\"].unique()\n",
    "\n",
    "# Iterate through unique positions and calculate average age for each\n",
    "for position in positions:\n",
    "    age_for_position = mvp_cleaned.loc[mvp_cleaned[\"Pos\"] == position, \"Age\"]\n",
    "    average_age_for_position = age_for_position.mean()\n",
    "    print(f\"The average age for {position} players is {average_age_for_position:.2f} years.\")\n"
   ]
  },
  {
   "cell_type": "code",
   "execution_count": 16,
   "id": "06fd5933-cabe-4740-9aba-1c90c1667bd3",
   "metadata": {},
   "outputs": [
    {
     "name": "stdout",
     "output_type": "stream",
     "text": [
      "The average points per SG position is 9.37 points.\n",
      "The average points per SF position is 8.99 points.\n",
      "The average points per PF position is 9.30 points.\n",
      "The average points per PG position is 10.51 points.\n",
      "The average points per C position is 8.29 points.\n",
      "The average points per PF-C position is 7.40 points.\n",
      "The average points per SF-PF position is 8.50 points.\n",
      "The average points per SG-PG position is 12.05 points.\n"
     ]
    }
   ],
   "source": [
    "positions = mvp_cleaned[\"Pos\"].unique()\n",
    "\n",
    "for position in positions:\n",
    "    average_points = mvp_cleaned.loc[mvp_cleaned[\"Pos\"] == position, \"PTS\"].mean()\n",
    "    print(f\"The average points per {position} position is {average_points:.2f} points.\")\n"
   ]
  },
  {
   "cell_type": "code",
   "execution_count": 17,
   "id": "3e146efa-06f9-4f8f-80b1-e31e1bf0f7ea",
   "metadata": {},
   "outputs": [
    {
     "name": "stdout",
     "output_type": "stream",
     "text": [
      "The average field goal percentage per SG position is 0.44.\n",
      "The average field goal percentage per SF position is 0.45.\n",
      "The average field goal percentage per PF position is 0.48.\n",
      "The average field goal percentage per PG position is 0.42.\n",
      "The average field goal percentage per C position is 0.57.\n",
      "The average field goal percentage per PF-C position is 0.52.\n",
      "The average field goal percentage per SF-PF position is 0.47.\n",
      "The average field goal percentage per SG-PG position is 0.43.\n"
     ]
    }
   ],
   "source": [
    "positions = mvp_cleaned[\"Pos\"].unique()\n",
    "\n",
    "for position in positions:\n",
    "    average_fg = mvp_cleaned.loc[mvp_cleaned[\"Pos\"] == position, \"FG%\"]\n",
    "    average_field_goal = np.nanmean(average_fg)\n",
    "    print(f\"The average field goal percentage per {position} position is {average_field_goal:.2f}.\")\n"
   ]
  },
  {
   "cell_type": "code",
   "execution_count": 18,
   "id": "22debf7c-59b8-4680-a62f-8ac2da4468ea",
   "metadata": {},
   "outputs": [
    {
     "name": "stdout",
     "output_type": "stream",
     "text": [
      "The average three-point percentage per SG position is 0.35.\n",
      "The average three-point percentage per SF position is 0.35.\n",
      "The average three-point percentage per PF position is 0.32.\n",
      "The average three-point percentage per PG position is 0.33.\n",
      "The average three-point percentage per C position is 0.29.\n",
      "The average three-point percentage per PF-C position is 0.39.\n",
      "The average three-point percentage per SF-PF position is 0.37.\n",
      "The average three-point percentage per SG-PG position is 0.38.\n"
     ]
    }
   ],
   "source": [
    "\n",
    "positions = mvp_cleaned[\"Pos\"].unique()\n",
    "\n",
    "# Iterate through unique positions and calculate average three-point percentage for each\n",
    "for position in positions:\n",
    "    average_three_p = mvp_cleaned.loc[mvp_cleaned[\"Pos\"] == position, \"3P%\"]\n",
    "    average_three_point = np.nanmean(average_three_p)\n",
    "    print(f\"The average three-point percentage per {position} position is {average_three_point:.2f}.\")\n"
   ]
  },
  {
   "cell_type": "code",
   "execution_count": 19,
   "id": "bb1f480f-50c9-4a32-b7d6-a52addf90702",
   "metadata": {},
   "outputs": [
    {
     "name": "stdout",
     "output_type": "stream",
     "text": [
      "The 2 point% per SG position is 2.54.\n",
      "The 2 point% per SF position is 3.20.\n",
      "The 2 point% per PF position is 4.16.\n",
      "The 2 point% per PG position is 2.76.\n",
      "The 2 point% per C position is 5.44.\n",
      "The 2 point% per PF-C position is 3.80.\n",
      "The 2 point% per SF-PF position is 3.30.\n",
      "The 2 point% per SG-PG position is 4.50.\n"
     ]
    }
   ],
   "source": [
    "\n",
    "positions = mvp_cleaned[\"Pos\"].unique()\n",
    "\n",
    "for position in positions:\n",
    "    average_two_p = mvp_cleaned.loc[mvp_cleaned[\"Pos\"] == position, \"TRB\"]\n",
    "    average_two_point = np.nanmean(average_two_p)\n",
    "    print(f\"The 2 point% per {position} position is {average_two_point:.2f}.\")\n"
   ]
  }
 ],
 "metadata": {
  "kernelspec": {
   "display_name": "Python 3 (ipykernel)",
   "language": "python",
   "name": "python3"
  },
  "language_info": {
   "codemirror_mode": {
    "name": "ipython",
    "version": 3
   },
   "file_extension": ".py",
   "mimetype": "text/x-python",
   "name": "python",
   "nbconvert_exporter": "python",
   "pygments_lexer": "ipython3",
   "version": "3.8.10"
  }
 },
 "nbformat": 4,
 "nbformat_minor": 5
}
